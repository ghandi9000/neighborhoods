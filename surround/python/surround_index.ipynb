{
 "metadata": {
  "name": "",
  "signature": "sha256:f4a0c616e8ba68bcb316499bb330c5e9e245908910e659a5a77243e6a49abd1b"
 },
 "nbformat": 3,
 "nbformat_minor": 0,
 "worksheets": [
  {
   "cells": [
    {
     "cell_type": "code",
     "collapsed": false,
     "input": [
      "import numpy as np\n",
      "import matplotlib.pyplot as plt"
     ],
     "language": "python",
     "metadata": {},
     "outputs": [],
     "prompt_number": 1
    },
    {
     "cell_type": "markdown",
     "metadata": {},
     "source": [
      "# Create neighborhood surround index, aka gapiness\n",
      "### Definitions\n",
      "- A neighborhood is composed of the trees surrounding an individual within a certain radius.\n",
      "- A connected component of the neighborhood is continuous area in the neighborhood this is both occupied by neighbors and at least as large as a specified area.\n",
      "\n",
      "### Parameters\n",
      "- Neighborhood size: 9 quadrats (8 quadrats surround targets quadrat)\n",
      "- Connected component size: 2 quadrats (8 possible connected components for 9 quadrat neighborhood)\n"
     ]
    },
    {
     "cell_type": "markdown",
     "metadata": {},
     "source": [
      "## Individual neighbor values (nv): ratio of neighbor BA and distance to target\n",
      "### ${nv_{target,neighbor}} = \\frac{BA_{neighbor}^\\alpha}{Distance_{target, neighbor}^\\beta}$, \n",
      "where $BA$ is the basal area and $Distance$ is the distance between target and neighbor\n",
      "\n",
      "- Neighbors are additive within connected components\n",
      "- Use $\\alpha = 1$ and $\\beta = 1$ for now"
     ]
    },
    {
     "cell_type": "markdown",
     "metadata": {},
     "source": [
      "## Calculate Neighbor Surround Index (NSI)\n",
      "$nsi = \\sum_{i=1}^n \\theta_i[ I_i(\\sum_{j=1}^{C}\\sum_{k=1}^m {nv_{target,k}}) + \\sum_{k=1}^m {nv_{target,k}}]$,\n",
      "\n",
      "where $n$ is the number of quadrats in the neighborhood, $C$ is the number of quadrats in a connected component of the neighborhood, $m$ is the number of neighbors in a quadrat, $\\theta$ is a vector of parameters of length $n$ corresponding to the direction from target to neighbor, and $I\\in{\\{0,1\\}}$ is an indicator variable that evaluates to $1$ if a connected component of the neighborhood is filled.\n",
      "\n",
      "- Intuitively, the NSI is the sum of connected components and individual components (i.e. summed neighbor values for each quadrat)"
     ]
    },
    {
     "cell_type": "code",
     "collapsed": false,
     "input": [
      "#Parameters\n",
      "nsize = 9\n",
      "alpha, beta = 1,1\n",
      "C = 2\n",
      "\n",
      "# derived parameters\n",
      "side_len = int(np.sqrt(nsize))\n",
      "\n",
      "# Definitions\n",
      "def nv(nbrs, distance, alpha, beta):\n",
      "    \"\"\"Calculate neighbor values, nbrs is array of neighbors in a quadrat\"\"\"\n",
      "    return nbrs**alpha / distance**beta\n",
      "\n",
      "def component_indices(side_length):\n",
      "    \"\"\"Returns list of indices of outermost layer of neighbhorhood of \n",
      "    size nsize ordered clockwise from (0,0)\"\"\"\n",
      "    inds = [(0,j) for j in range(side_length)]\n",
      "    inds += [(i,side_length-1) for i in range(1,side_length)]\n",
      "    inds += [(side_length-1,j) for j in reversed(range(0,side_length-1))]\n",
      "    inds += [(i,0) for i in reversed(range(1,side_length-1))]\n",
      "    return inds\n",
      "\n",
      "def create_nbr_dict(nbrs, inds):\n",
      "    \"\"\"Make neighbor dictionary keyed by quadrat, values are neighbor sizes in \n",
      "    quadrat\"\"\"\n",
      "    return {inds[i] : np.array([val for ind, val in nbrs\\\n",
      "                                if ind == inds[i]]) for i in range(len(inds))}\n",
      "                \n",
      "def connected_comps(side_length, C):\n",
      "    \"\"\"Returns array of connected component indices given neighborhood size.\n",
      "    Note: currently only works for connected components in outermost layer\"\"\"\n",
      "    num_outer = side_length + 2*(side_length-1) + (side_length-2)\n",
      "    inds = component_indices(side_length)\n",
      "    comps = [[inds[(i + j) % len(inds)] for j in range(C)] for i in range(num_outer)]\n",
      "    return inds, comps\n",
      "\n",
      "def nsi(nbrs, side_length, C, alpha, beta, theta):\n",
      "    \"\"\"Returns neighbor surround index given array of nbrs, neighborhood\n",
      "    side length, and connected component length.\n",
      "    Each component of nbrs is of the form ((x, y), size)\"\"\"\n",
      "    inds, comps = connected_comps(side_length, C)\n",
      "    nbr_dict = create_nbr_dict(nbrs, inds)\n",
      "    compsval = 0.0\n",
      "    for comp in comps:\n",
      "        if all([nbr_dict[comp[i]].size > 0 for i in range(len(comp))]):\n",
      "            cval = 0.0\n",
      "            for q in comp:\n",
      "                dist = np.sqrt((q[0]-1)**2 + (q[1]-1)**2)\n",
      "                #print dist\n",
      "                cval += sum(nv(nbr_dict[q], dist, alpha, beta))\n",
      "            #print str(comp) + ': ' + str(cval)\n",
      "            compsval += cval\n",
      "    indval = 0.0\n",
      "    for q in nbr_dict:\n",
      "        dist = np.sqrt((q[0]-1)**2 + (q[1]-1)**2)\n",
      "        indval += sum(nv(nbr_dict[q], dist, alpha, beta))\n",
      "    return compsval + indval\n",
      "\n",
      "# Testing\n",
      "print 'For neighborhood of size ' + str(nsize) + \\\n",
      "    ' and connected component size ' + str(C) + ':'\n",
      "print '\\tIndices: ' + str(component_indices(side_len))\n",
      "inds, ccs = connected_comps(side_len, C)\n",
      "print '\\tNumber of connected components: ' + str(len(ccs))\n",
      "print '\\tConnected components: ' + str(ccs)\n",
      "\n",
      "# Make neighor data\n",
      "nlocs_no_comp = [(0,0), (2,0), (2,2)]\n",
      "nbr_no_comps = [(nlocs_no_comp[i], 0.25) for i in range(len(nlocs_no_comp))]\n",
      "nbr_comps = [((i,j),0.25) for i in [0,1,2] for j in [0,1]]\n",
      "print 'Disconnected neighbor data: ' + str(nbr_no_comps)\n",
      "print 'Connected neighbor data: ' + str(nbr_comps)\n",
      "print 'Neighor dictionary: ' + str(create_nbr_dict(nbr_comps, inds))\n",
      "\n",
      "theta = 1\n",
      "nsi(nbr_comps, side_len, C, alpha, beta, theta)"
     ],
     "language": "python",
     "metadata": {},
     "outputs": [
      {
       "output_type": "stream",
       "stream": "stdout",
       "text": [
        "For neighborhood of size 9 and connected component size 2:\n",
        "\tIndices: [(0, 0), (0, 1), (0, 2), (1, 2), (2, 2), (2, 1), (2, 0), (1, 0)]\n",
        "\tNumber of connected components: 8\n",
        "\tConnected components: [[(0, 0), (0, 1)], [(0, 1), (0, 2)], [(0, 2), (1, 2)], [(1, 2), (2, 2)], [(2, 2), (2, 1)], [(2, 1), (2, 0)], [(2, 0), (1, 0)], [(1, 0), (0, 0)]]\n",
        "Disconnected neighbor data: [((0, 0), 0.25), ((2, 0), 0.25), ((2, 2), 0.25)]\n",
        "Connected neighbor data: [((0, 0), 0.25), ((0, 1), 0.25), ((1, 0), 0.25), ((1, 1), 0.25), ((2, 0), 0.25), ((2, 1), 0.25)]\n",
        "Neighor dictionary: {(0, 1): array([ 0.25]), (1, 2): array([], dtype=float64), (0, 0): array([ 0.25]), (2, 1): array([ 0.25]), (2, 0): array([ 0.25]), (2, 2): array([], dtype=float64), (1, 0): array([ 0.25]), (0, 2): array([], dtype=float64)}\n"
       ]
      },
      {
       "metadata": {},
       "output_type": "pyout",
       "prompt_number": 2,
       "text": [
        "2.810660171779821"
       ]
      }
     ],
     "prompt_number": 2
    },
    {
     "cell_type": "code",
     "collapsed": false,
     "input": [
      "# Show test output\n",
      "inds = component_indices(side_len)\n",
      "config = np.zeros((side_len, side_len))\n",
      "for ind in ccs[0]:\n",
      "    config[ind[0],ind[1]] = 1\n",
      "fig = plt.figure()\n",
      "ax1 = fig.add_subplot(1,2,1)\n",
      "ax1.imshow(config, cmap=plt.cm.bone_r, interpolation='nearest')\n",
      "ax1.set_title('One connected component')\n",
      "ax2 = fig.add_subplot(1,2,2)\n",
      "ax2.axis([-0.5, 2.5, -0.5, 2.5])\n",
      "ax2.plot([x for x,y in inds],[y for x,y in inds], 'ro')\n",
      "ax2.set_title('Locations of neighbors around a target at (0,0)')\n",
      "plt.show()\n"
     ],
     "language": "python",
     "metadata": {},
     "outputs": [
      {
       "metadata": {},
       "output_type": "display_data",
       "png": "[encoded data removed]",
       "text": [
        "<matplotlib.figure.Figure at 0x99902b0>"
       ]
      }
     ],
     "prompt_number": 3
    },
    {
     "cell_type": "markdown",
     "metadata": {},
     "source": [
      "## Neighbor distances"
     ]
    },
    {
     "cell_type": "code",
     "collapsed": false,
     "input": [
      "# make distance matrix\n",
      "distances = np.ones((3,3))\n",
      "np.fill_diagonal(distances, np.sqrt(2))\n",
      "np.fill_diagonal(np.fliplr(distances), np.sqrt(2))\n",
      "distances[1,1] = 0\n",
      "\n",
      "# show\n",
      "plt.imshow(distances, cmap=plt.cm.bone_r, interpolation='nearest')\n",
      "plt.title('Neighborhood distances')\n",
      "plt.colorbar()\n",
      "plt.show()\n"
     ],
     "language": "python",
     "metadata": {},
     "outputs": [
      {
       "metadata": {},
       "output_type": "display_data",
       "png": "[encoded data removed]",
       "text": [
        "<matplotlib.figure.Figure at 0x9868518>"
       ]
      }
     ],
     "prompt_number": 4
    },
    {
     "cell_type": "markdown",
     "metadata": {},
     "source": [
      "## Neighbor locations\n",
      "- These cases should all be different because distances to corners are greater than distances to sides"
     ]
    },
    {
     "cell_type": "code",
     "collapsed": false,
     "input": [
      "# test neighbor configurations\n",
      "# side case\n",
      "gap_side = np.ones((3,3))\n",
      "gap_side[0,:] = 0\n",
      "# corner case\n",
      "gap_corner = np.ones((3,3))\n",
      "gap_corner[0,[1, 2]]=0\n",
      "gap_corner[1, 2]=0\n",
      "# no continuous gaps: corner cases\n",
      "gap_corner_broken = np.ones((3,3))\n",
      "gap_corner_broken[[0,0,2,2],[0,2,0,2]] = 0\n",
      "# no continuous gaps: side cases\n",
      "gap_side_broken = np.ones((3,3))\n",
      "gap_side_broken[[1,2,1,0],[0,1,2,1]] = 0\n",
      "\n",
      "# show graphics\n",
      "fig = plt.figure()\n",
      "ax1 = fig.add_subplot(3,3,1)\n",
      "ax1.imshow(gap_side, cmap=plt.cm.bone_r, interpolation='nearest')\n",
      "ax1.set_title('3 quadrat\\n side gap')\n",
      "\n",
      "ax2 = fig.add_subplot(3,3,3)\n",
      "ax2.imshow(gap_corner, cmap=plt.cm.bone_r, interpolation='nearest')\n",
      "ax2.set_title('3 quadrat\\n corner gap')\n",
      "\n",
      "ax3 = fig.add_subplot(3,3,7)\n",
      "ax3.imshow(gap_corner_broken, cmap=plt.cm.bone_r, interpolation='nearest')\n",
      "ax3.set_title('No continuous gaps:\\n corner cases')\n",
      "\n",
      "ax4 = fig.add_subplot(3,3,9)\n",
      "ax4.imshow(gap_side_broken, cmap=plt.cm.bone_r, interpolation='nearest')\n",
      "ax4.set_title('No continuous gaps:\\n side cases')\n",
      "\n",
      "[plt.setp(x.get_yticklabels(), visible=False) for x in [ax1,ax2,ax3,ax4]]\n",
      "[plt.setp(x.get_xticklabels(), visible=False) for x in [ax1,ax2,ax3,ax4]]\n",
      "plt.show()\n"
     ],
     "language": "python",
     "metadata": {},
     "outputs": [
      {
       "metadata": {},
       "output_type": "display_data",
       "png": "[encoded data removed]",
       "text": [
        "<matplotlib.figure.Figure at 0x9b6a128>"
       ]
      }
     ],
     "prompt_number": 5
    },
    {
     "cell_type": "markdown",
     "metadata": {},
     "source": [
      "## Calculate neighborhood for above configurations\n",
      "- Only one neighbor per occupied quardrat\n",
      "- All neighbors the same size: $0.25$"
     ]
    },
    {
     "cell_type": "markdown",
     "metadata": {},
     "source": [
      "# Test cases\n",
      "1. All neighbors same size\n",
      "2. All neighbors random sizes"
     ]
    },
    {
     "cell_type": "code",
     "collapsed": false,
     "input": [
      "\n",
      "\n",
      "fig, ax = plt.subplots()\n",
      "\n",
      "image = np.random.uniform(size=(3, 3))\n",
      "ax.imshow(image, cmap=plt.cm.gray, interpolation='nearest')\n",
      "ax.set_title('dropped spines')\n",
      "\n",
      "# Move left and bottom spines outward by 10 points\n",
      "ax.spines['left'].set_position(('outward', 10))\n",
      "ax.spines['bottom'].set_position(('outward', 10))\n",
      "# Hide the right and top spines\n",
      "ax.spines['right'].set_visible(False)\n",
      "ax.spines['top'].set_visible(False)\n",
      "# Only show ticks on the left and bottom spines\n",
      "ax.yaxis.set_ticks_position('left')\n",
      "ax.xaxis.set_ticks_position('bottom')\n",
      "\n",
      "plt.show()"
     ],
     "language": "python",
     "metadata": {},
     "outputs": [
      {
       "metadata": {},
       "output_type": "display_data",
       "png": "[encoded data removed]",
       "text": [
        "<matplotlib.figure.Figure at 0x9b88f60>"
       ]
      }
     ],
     "prompt_number": 6
    },
    {
     "cell_type": "code",
     "collapsed": false,
     "input": [
      "%load_ext rmagic\n"
     ],
     "language": "python",
     "metadata": {},
     "outputs": [
      {
       "ename": "ImportError",
       "evalue": "No module named rpy2.rinterface",
       "output_type": "pyerr",
       "traceback": [
        "\u001b[1;31m---------------------------------------------------------------------------\u001b[0m\n\u001b[1;31mImportError\u001b[0m                               Traceback (most recent call last)",
        "\u001b[1;32m<ipython-input-7-67efefd52de2>\u001b[0m in \u001b[0;36m<module>\u001b[1;34m()\u001b[0m\n\u001b[1;32m----> 1\u001b[1;33m \u001b[0mget_ipython\u001b[0m\u001b[1;33m(\u001b[0m\u001b[1;33m)\u001b[0m\u001b[1;33m.\u001b[0m\u001b[0mmagic\u001b[0m\u001b[1;33m(\u001b[0m\u001b[1;34mu'load_ext rmagic'\u001b[0m\u001b[1;33m)\u001b[0m\u001b[1;33m\u001b[0m\u001b[0m\n\u001b[0m",
        "\u001b[1;32mC:\\Anaconda\\lib\\site-packages\\IPython\\core\\interactiveshell.pyc\u001b[0m in \u001b[0;36mmagic\u001b[1;34m(self, arg_s)\u001b[0m\n\u001b[0;32m   2170\u001b[0m         \u001b[0mmagic_name\u001b[0m\u001b[1;33m,\u001b[0m \u001b[0m_\u001b[0m\u001b[1;33m,\u001b[0m \u001b[0mmagic_arg_s\u001b[0m \u001b[1;33m=\u001b[0m \u001b[0marg_s\u001b[0m\u001b[1;33m.\u001b[0m\u001b[0mpartition\u001b[0m\u001b[1;33m(\u001b[0m\u001b[1;34m' '\u001b[0m\u001b[1;33m)\u001b[0m\u001b[1;33m\u001b[0m\u001b[0m\n\u001b[0;32m   2171\u001b[0m         \u001b[0mmagic_name\u001b[0m \u001b[1;33m=\u001b[0m \u001b[0mmagic_name\u001b[0m\u001b[1;33m.\u001b[0m\u001b[0mlstrip\u001b[0m\u001b[1;33m(\u001b[0m\u001b[0mprefilter\u001b[0m\u001b[1;33m.\u001b[0m\u001b[0mESC_MAGIC\u001b[0m\u001b[1;33m)\u001b[0m\u001b[1;33m\u001b[0m\u001b[0m\n\u001b[1;32m-> 2172\u001b[1;33m         \u001b[1;32mreturn\u001b[0m \u001b[0mself\u001b[0m\u001b[1;33m.\u001b[0m\u001b[0mrun_line_magic\u001b[0m\u001b[1;33m(\u001b[0m\u001b[0mmagic_name\u001b[0m\u001b[1;33m,\u001b[0m \u001b[0mmagic_arg_s\u001b[0m\u001b[1;33m)\u001b[0m\u001b[1;33m\u001b[0m\u001b[0m\n\u001b[0m\u001b[0;32m   2173\u001b[0m \u001b[1;33m\u001b[0m\u001b[0m\n\u001b[0;32m   2174\u001b[0m     \u001b[1;31m#-------------------------------------------------------------------------\u001b[0m\u001b[1;33m\u001b[0m\u001b[1;33m\u001b[0m\u001b[0m\n",
        "\u001b[1;32mC:\\Anaconda\\lib\\site-packages\\IPython\\core\\interactiveshell.pyc\u001b[0m in \u001b[0;36mrun_line_magic\u001b[1;34m(self, magic_name, line)\u001b[0m\n\u001b[0;32m   2091\u001b[0m                 \u001b[0mkwargs\u001b[0m\u001b[1;33m[\u001b[0m\u001b[1;34m'local_ns'\u001b[0m\u001b[1;33m]\u001b[0m \u001b[1;33m=\u001b[0m \u001b[0msys\u001b[0m\u001b[1;33m.\u001b[0m\u001b[0m_getframe\u001b[0m\u001b[1;33m(\u001b[0m\u001b[0mstack_depth\u001b[0m\u001b[1;33m)\u001b[0m\u001b[1;33m.\u001b[0m\u001b[0mf_locals\u001b[0m\u001b[1;33m\u001b[0m\u001b[0m\n\u001b[0;32m   2092\u001b[0m             \u001b[1;32mwith\u001b[0m \u001b[0mself\u001b[0m\u001b[1;33m.\u001b[0m\u001b[0mbuiltin_trap\u001b[0m\u001b[1;33m:\u001b[0m\u001b[1;33m\u001b[0m\u001b[0m\n\u001b[1;32m-> 2093\u001b[1;33m                 \u001b[0mresult\u001b[0m \u001b[1;33m=\u001b[0m \u001b[0mfn\u001b[0m\u001b[1;33m(\u001b[0m\u001b[1;33m*\u001b[0m\u001b[0margs\u001b[0m\u001b[1;33m,\u001b[0m\u001b[1;33m**\u001b[0m\u001b[0mkwargs\u001b[0m\u001b[1;33m)\u001b[0m\u001b[1;33m\u001b[0m\u001b[0m\n\u001b[0m\u001b[0;32m   2094\u001b[0m             \u001b[1;32mreturn\u001b[0m \u001b[0mresult\u001b[0m\u001b[1;33m\u001b[0m\u001b[0m\n\u001b[0;32m   2095\u001b[0m \u001b[1;33m\u001b[0m\u001b[0m\n",
        "\u001b[1;32mC:\\Anaconda\\lib\\site-packages\\IPython\\core\\magics\\extension.pyc\u001b[0m in \u001b[0;36mload_ext\u001b[1;34m(self, module_str)\u001b[0m\n",
        "\u001b[1;32mC:\\Anaconda\\lib\\site-packages\\IPython\\core\\magic.pyc\u001b[0m in \u001b[0;36m<lambda>\u001b[1;34m(f, *a, **k)\u001b[0m\n\u001b[0;32m    189\u001b[0m     \u001b[1;31m# but it's overkill for just that one bit of state.\u001b[0m\u001b[1;33m\u001b[0m\u001b[1;33m\u001b[0m\u001b[0m\n\u001b[0;32m    190\u001b[0m     \u001b[1;32mdef\u001b[0m \u001b[0mmagic_deco\u001b[0m\u001b[1;33m(\u001b[0m\u001b[0marg\u001b[0m\u001b[1;33m)\u001b[0m\u001b[1;33m:\u001b[0m\u001b[1;33m\u001b[0m\u001b[0m\n\u001b[1;32m--> 191\u001b[1;33m         \u001b[0mcall\u001b[0m \u001b[1;33m=\u001b[0m \u001b[1;32mlambda\u001b[0m \u001b[0mf\u001b[0m\u001b[1;33m,\u001b[0m \u001b[1;33m*\u001b[0m\u001b[0ma\u001b[0m\u001b[1;33m,\u001b[0m \u001b[1;33m**\u001b[0m\u001b[0mk\u001b[0m\u001b[1;33m:\u001b[0m \u001b[0mf\u001b[0m\u001b[1;33m(\u001b[0m\u001b[1;33m*\u001b[0m\u001b[0ma\u001b[0m\u001b[1;33m,\u001b[0m \u001b[1;33m**\u001b[0m\u001b[0mk\u001b[0m\u001b[1;33m)\u001b[0m\u001b[1;33m\u001b[0m\u001b[0m\n\u001b[0m\u001b[0;32m    192\u001b[0m \u001b[1;33m\u001b[0m\u001b[0m\n\u001b[0;32m    193\u001b[0m         \u001b[1;32mif\u001b[0m \u001b[0mcallable\u001b[0m\u001b[1;33m(\u001b[0m\u001b[0marg\u001b[0m\u001b[1;33m)\u001b[0m\u001b[1;33m:\u001b[0m\u001b[1;33m\u001b[0m\u001b[0m\n",
        "\u001b[1;32mC:\\Anaconda\\lib\\site-packages\\IPython\\core\\magics\\extension.pyc\u001b[0m in \u001b[0;36mload_ext\u001b[1;34m(self, module_str)\u001b[0m\n\u001b[0;32m     60\u001b[0m         \u001b[1;32mif\u001b[0m \u001b[1;32mnot\u001b[0m \u001b[0mmodule_str\u001b[0m\u001b[1;33m:\u001b[0m\u001b[1;33m\u001b[0m\u001b[0m\n\u001b[0;32m     61\u001b[0m             \u001b[1;32mraise\u001b[0m \u001b[0mUsageError\u001b[0m\u001b[1;33m(\u001b[0m\u001b[1;34m'Missing module name.'\u001b[0m\u001b[1;33m)\u001b[0m\u001b[1;33m\u001b[0m\u001b[0m\n\u001b[1;32m---> 62\u001b[1;33m         \u001b[0mres\u001b[0m \u001b[1;33m=\u001b[0m \u001b[0mself\u001b[0m\u001b[1;33m.\u001b[0m\u001b[0mshell\u001b[0m\u001b[1;33m.\u001b[0m\u001b[0mextension_manager\u001b[0m\u001b[1;33m.\u001b[0m\u001b[0mload_extension\u001b[0m\u001b[1;33m(\u001b[0m\u001b[0mmodule_str\u001b[0m\u001b[1;33m)\u001b[0m\u001b[1;33m\u001b[0m\u001b[0m\n\u001b[0m\u001b[0;32m     63\u001b[0m \u001b[1;33m\u001b[0m\u001b[0m\n\u001b[0;32m     64\u001b[0m         \u001b[1;32mif\u001b[0m \u001b[0mres\u001b[0m \u001b[1;33m==\u001b[0m \u001b[1;34m'already loaded'\u001b[0m\u001b[1;33m:\u001b[0m\u001b[1;33m\u001b[0m\u001b[0m\n",
        "\u001b[1;32mC:\\Anaconda\\lib\\site-packages\\IPython\\core\\extensions.pyc\u001b[0m in \u001b[0;36mload_extension\u001b[1;34m(self, module_str)\u001b[0m\n\u001b[0;32m     96\u001b[0m             \u001b[1;32mif\u001b[0m \u001b[0mmodule_str\u001b[0m \u001b[1;32mnot\u001b[0m \u001b[1;32min\u001b[0m \u001b[0msys\u001b[0m\u001b[1;33m.\u001b[0m\u001b[0mmodules\u001b[0m\u001b[1;33m:\u001b[0m\u001b[1;33m\u001b[0m\u001b[0m\n\u001b[0;32m     97\u001b[0m                 \u001b[1;32mwith\u001b[0m \u001b[0mprepended_to_syspath\u001b[0m\u001b[1;33m(\u001b[0m\u001b[0mself\u001b[0m\u001b[1;33m.\u001b[0m\u001b[0mipython_extension_dir\u001b[0m\u001b[1;33m)\u001b[0m\u001b[1;33m:\u001b[0m\u001b[1;33m\u001b[0m\u001b[0m\n\u001b[1;32m---> 98\u001b[1;33m                     \u001b[0m__import__\u001b[0m\u001b[1;33m(\u001b[0m\u001b[0mmodule_str\u001b[0m\u001b[1;33m)\u001b[0m\u001b[1;33m\u001b[0m\u001b[0m\n\u001b[0m\u001b[0;32m     99\u001b[0m             \u001b[0mmod\u001b[0m \u001b[1;33m=\u001b[0m \u001b[0msys\u001b[0m\u001b[1;33m.\u001b[0m\u001b[0mmodules\u001b[0m\u001b[1;33m[\u001b[0m\u001b[0mmodule_str\u001b[0m\u001b[1;33m]\u001b[0m\u001b[1;33m\u001b[0m\u001b[0m\n\u001b[0;32m    100\u001b[0m             \u001b[1;32mif\u001b[0m \u001b[0mself\u001b[0m\u001b[1;33m.\u001b[0m\u001b[0m_call_load_ipython_extension\u001b[0m\u001b[1;33m(\u001b[0m\u001b[0mmod\u001b[0m\u001b[1;33m)\u001b[0m\u001b[1;33m:\u001b[0m\u001b[1;33m\u001b[0m\u001b[0m\n",
        "\u001b[1;32mC:\\Anaconda\\lib\\site-packages\\IPython\\extensions\\rmagic.py\u001b[0m in \u001b[0;36m<module>\u001b[1;34m()\u001b[0m\n\u001b[0;32m     44\u001b[0m \u001b[1;32mimport\u001b[0m \u001b[0mnumpy\u001b[0m \u001b[1;32mas\u001b[0m \u001b[0mnp\u001b[0m\u001b[1;33m\u001b[0m\u001b[0m\n\u001b[0;32m     45\u001b[0m \u001b[1;33m\u001b[0m\u001b[0m\n\u001b[1;32m---> 46\u001b[1;33m \u001b[1;32mimport\u001b[0m \u001b[0mrpy2\u001b[0m\u001b[1;33m.\u001b[0m\u001b[0mrinterface\u001b[0m \u001b[1;32mas\u001b[0m \u001b[0mri\u001b[0m\u001b[1;33m\u001b[0m\u001b[0m\n\u001b[0m\u001b[0;32m     47\u001b[0m \u001b[1;32mimport\u001b[0m \u001b[0mrpy2\u001b[0m\u001b[1;33m.\u001b[0m\u001b[0mrobjects\u001b[0m \u001b[1;32mas\u001b[0m \u001b[0mro\u001b[0m\u001b[1;33m\u001b[0m\u001b[0m\n\u001b[0;32m     48\u001b[0m \u001b[1;32mtry\u001b[0m\u001b[1;33m:\u001b[0m\u001b[1;33m\u001b[0m\u001b[0m\n",
        "\u001b[1;31mImportError\u001b[0m: No module named rpy2.rinterface"
       ]
      }
     ],
     "prompt_number": 7
    },
    {
     "cell_type": "code",
     "collapsed": false,
     "input": [],
     "language": "python",
     "metadata": {},
     "outputs": []
    }
   ],
   "metadata": {}
  }
 ]
}